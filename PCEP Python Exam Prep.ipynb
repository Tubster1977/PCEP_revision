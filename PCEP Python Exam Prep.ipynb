{
 "cells": [
  {
   "cell_type": "markdown",
   "id": "cfc6e868",
   "metadata": {},
   "source": [
    "## PCEP Python Exam Prep - Knowledge and Skills"
   ]
  },
  {
   "cell_type": "markdown",
   "id": "39f5b17f",
   "metadata": {},
   "source": [
    "### i. Fundamentals"
   ]
  },
  {
   "cell_type": "markdown",
   "id": "0199da67",
   "metadata": {},
   "source": [
    "* Guido van Rossum named Python in honor of Monty Python's Flying Circus.\n",
    "* Python is an example of a 'high-level programming language'.\n",
    "* Python language 'elements' include:\n",
    "    - an alphabet\n",
    "    - a lexis\n",
    "    - a syntax\n",
    "    - semantics\n",
    "* A set of complete known commands is called an 'instruction list'.\n",
    "* A program written in a high-level programming language is called a 'source code'\n",
    "    - a file containing source-code is a 'source-file'\n",
    "* An 'interpreter' is a computer program which directly executes instructions written in a programming language and is used for:\n",
    "    - Python and Perl\n",
    "* 'CPython' is the default implimentation of the Python programming language.\n",
    "* A 'console' is a command-line interpreter which lets you interact with your OS and execute Python commands and scripts.\n",
    "* A 'debugger' is a tool that lets you launch your code step-by-step and inspect it at each moment of execution.\n",
    "* The Python file extension is 'Py'.\n",
    "* 'Machine code' is a low-level programming language consisting of binary digits/bits that the computer reads and understands.\n",
    "* A compiler is a special program that translates a programming languages' source-code into machine code and is used for:\n",
    "    - C and C++\n",
    "* Compilation tends to be faster than interpretation and converts code directly into machine code, made executable by the processor."
   ]
  },
  {
   "cell_type": "markdown",
   "id": "9d38d95a",
   "metadata": {},
   "source": [
    "### ii. Data Types and Variables"
   ]
  },
  {
   "cell_type": "markdown",
   "id": "59767020",
   "metadata": {},
   "source": [
    "* The escape character (backslash \\\\) changes the meaning of the character next to it.\n",
    "* The 'positional parameter' is determined by its position.\n",
    "* 'Integer' and 'floating-point' numbers are different because they are stored differently in the computer memory.\n",
    "* 0x - prefix means that the number after it is denoted as a hexadecimal.\n",
    "* 0o - prefix means that the number after it is denoted as an octal.\n",
    "* the // operator performs integer division - it is a floor division.\n",
    "* Multiplication precedes addition (BODMAS/PEDMAS)\n",
    "    - binding is left-sided\n",
    "    - HOWEVER for exponentials** - binding is RIGHT-SIDED\n",
    "* A 'keyword' is a word that CANNOT:\n",
    "    - be used as a variable name\n",
    "    - be used as a function name\n",
    "* The 'keyword parameter' is determined by the argument's name specified along with its value.\n",
    "* The 'print()' function can output values for any number of arguments (including zero).\n",
    "* bool(1) is True and is denoted by 1.\n",
    "* A variable name cannot start with & or Number.\n",
    "* 'True' and 'False' are reserved words so they cannot be used as variable names.\n",
    "* Be careful when naming variable names after functions! For example, list can be used BUT not list()."
   ]
  },
  {
   "cell_type": "markdown",
   "id": "c2cbd1ca",
   "metadata": {},
   "source": [
    "### iii. More data types, conditional execution loops, lists, list processing, logical and bitwise operations, functions, dictionaries, exceptions and data processing "
   ]
  },
  {
   "cell_type": "markdown",
   "id": "558a7fba",
   "metadata": {},
   "source": [
    "* A def function starts with the 'def' keyword.\n",
    "* A function definition must be placed BEFORE the first invocation.\n",
    "* A 'function parameter' is a kind of variable accessible only inside the function.\n",
    "* A way of passing arguments in which the order of the arguments determines the initial parameters' values is referred to as 'positional'.\n",
    "* A parameterless function could be expressed as ...\n",
    "    - def fun()\n",
    "* The 'return' keyword:\n",
    "    - forces the function's execution to terminate\n",
    "    - may cause the function to return a value\n",
    "* The 'NONE' keyword designates a NONE value and can be:\n",
    "    - compared with variables\n",
    "    - can be assigned to variables\n",
    "* A variable defined outside a function may be read, but not written (something more is needed to do so).\n",
    "* If a list is passed into a function as an argument, deleting any of its element inside the function using the 'del' instruction will affect the argument.\n",
    "* A 'dictionary' in Python is a mutable data structure where each key is unique.\n",
    "* As dictionary is a key-value pair, the '+' operator cannot be used to combine 2 dictionaries, hence it is an unsupported operand type for dictionaries.\n",
    "* The keys() method returns an iterable object consisting of all the keys gathered within the dictionary.\n",
    "* The fact that 'tuples' belong to sequence types means that they can be indexed and sliced.\n",
    "* A 'tuple' can be with parenthesis or without parenthesis.\n",
    "* If there is a single member in a 'tuple', you must place a comma (,) after the member!\n",
    "* The items() method returns tuples where each tuple is a key-value pair.\n",
    "* There is also a method named values(), which works similarly to keys(), but returns values.\n",
    "* A built-in function is a function which comes with Python, and is an integral part of Python.\n",
    "* The 'break' statement terminates the entire loop and alters the flow of the loop.\n",
    "* try-except block\n",
    "    - if you suspect that a snippet may raise an exception, you should place it in the try block!\n",
    "    - the code that follows the except statement will be executed if the code in the try clause runs into an error!"
   ]
  },
  {
   "cell_type": "markdown",
   "id": "b0f08541",
   "metadata": {},
   "source": [
    "1. print( )"
   ]
  },
  {
   "cell_type": "code",
   "execution_count": 66,
   "id": "56c44640",
   "metadata": {},
   "outputs": [],
   "source": [
    "# there is nothing to print so 'end' and 'sep' does not make much sense for this line.\n",
    "\n",
    "print(end='',sep='%%')\n",
    "\n",
    "# see below for proper usage!"
   ]
  },
  {
   "cell_type": "code",
   "execution_count": 67,
   "id": "a0ca5e85",
   "metadata": {},
   "outputs": [
    {
     "name": "stdout",
     "output_type": "stream",
     "text": [
      "Hello%%Mammy"
     ]
    }
   ],
   "source": [
    "print(\"Hello\",\"Mammy\", end='',sep='%%')"
   ]
  },
  {
   "cell_type": "code",
   "execution_count": 68,
   "id": "1f550851",
   "metadata": {},
   "outputs": [
    {
     "name": "stdout",
     "output_type": "stream",
     "text": [
      "I love\\nNoodles.\n",
      "I love\\Noodles.\n"
     ]
    }
   ],
   "source": [
    "# \\ removes the special meaning. \n",
    "# \\n adds a new line character but when you insert \\ before it ...\n",
    "# ... it loses its special meaning and is displayed as it is.\n",
    "\n",
    "print(\"I love\\\\nNoodles.\")\n",
    "print(\"I love\\\\Noodles.\")"
   ]
  },
  {
   "cell_type": "markdown",
   "id": "0ba6df54",
   "metadata": {},
   "source": [
    "2. Behaviour of variables and updating variables"
   ]
  },
  {
   "cell_type": "code",
   "execution_count": 69,
   "id": "429b165e",
   "metadata": {},
   "outputs": [
    {
     "name": "stdout",
     "output_type": "stream",
     "text": [
      "Steady-Eddie Jones\n"
     ]
    }
   ],
   "source": [
    "# title() method will capitalize the first letter of each word!\n",
    "\n",
    "full_name = \"steady-eddie jones\" \n",
    "print(full_name.title())"
   ]
  },
  {
   "cell_type": "code",
   "execution_count": 70,
   "id": "667ae2b5",
   "metadata": {},
   "outputs": [
    {
     "name": "stdout",
     "output_type": "stream",
     "text": [
      "True\n"
     ]
    }
   ],
   "source": [
    "# this was a question that I got wrong!\n",
    "# I assumed that because the values for both variables were the same, it didn't mean the variables were.\n",
    "\n",
    "a = 2\n",
    "b = 2\n",
    "print(a is b)"
   ]
  },
  {
   "cell_type": "code",
   "execution_count": 6,
   "id": "077a37fa",
   "metadata": {},
   "outputs": [
    {
     "name": "stdout",
     "output_type": "stream",
     "text": [
      "Toby Roy**7053630588**London\n"
     ]
    }
   ],
   "source": [
    "# I didn't realise multiple variables could be assigned on one line and comma separated!\n",
    "\n",
    "name, phone, location = \"Toby Roy\", 7053630588, \"London\"\n",
    "print(name, phone, location, sep=\"**\")"
   ]
  },
  {
   "cell_type": "code",
   "execution_count": 7,
   "id": "c85892fe",
   "metadata": {},
   "outputs": [
    {
     "name": "stdout",
     "output_type": "stream",
     "text": [
      "1 1 2\n"
     ]
    }
   ],
   "source": [
    "# updating variables!\n",
    "\n",
    "x = 1\n",
    "y = 2\n",
    "\n",
    "x, y, z = x, x, y\n",
    "z, y, z = x, y, z\n",
    "\n",
    "print(x, y, z)"
   ]
  },
  {
   "cell_type": "code",
   "execution_count": 8,
   "id": "b5f56e59",
   "metadata": {},
   "outputs": [],
   "source": [
    "# strings are immutable so do not support item-assignment!\n",
    "\n",
    "str = 'BeeR'\n",
    "#str[5] = 'r'\n",
    "#print(str)\n",
    "# TypeError: 'str' object does not support item assignment"
   ]
  },
  {
   "cell_type": "markdown",
   "id": "233802c9",
   "metadata": {},
   "source": [
    "3. Control Flow (while, if, for, else (and elif) range etc) "
   ]
  },
  {
   "cell_type": "code",
   "execution_count": 9,
   "id": "4887e6a5",
   "metadata": {},
   "outputs": [
    {
     "name": "stdout",
     "output_type": "stream",
     "text": [
      "*\n",
      "*\n"
     ]
    }
   ],
   "source": [
    "# when i = 2, an * is printed ...\n",
    "# when i = 0 (2-2), an * is printed ...\n",
    "# when i = -2 (0-2), the while condition is no longer satisfied!\n",
    "\n",
    "i = 2\n",
    "while i >= 0:\n",
    "    print(\"*\")\n",
    "    i -= 2"
   ]
  },
  {
   "cell_type": "code",
   "execution_count": 10,
   "id": "7b81dac5",
   "metadata": {},
   "outputs": [
    {
     "name": "stdout",
     "output_type": "stream",
     "text": [
      "6\n"
     ]
    }
   ],
   "source": [
    "# a = 0 --> 0 + 2 = 2 (becomes input - indentation is important)\n",
    "# a = 2 --> 2 + 2 = 4 (becomes input - indentation is important)\n",
    "# a = 4 --> 4 + 2 = 6 (output)\n",
    "# a = 6 (not < 5) --> no output\n",
    "\n",
    "a = 0\n",
    "while (a < 5): a += 2\n",
    "print(a)"
   ]
  },
  {
   "cell_type": "code",
   "execution_count": 71,
   "id": "b78cda51",
   "metadata": {},
   "outputs": [
    {
     "name": "stdout",
     "output_type": "stream",
     "text": [
      "pcep\n",
      "pcep\n",
      "pcep\n"
     ]
    }
   ],
   "source": [
    "# similar to above - I got this wrong as well!\n",
    "# x = -5 --> -5 + 3 = -2 --> output is pcep\n",
    "# x = -2 --> -2 + 3 = 1 --> output is pcep\n",
    "# x = 1 --> 1 + 3 = 4 --> output is pcep\n",
    "# x = 4 (not < 2) --> no output\n",
    "\n",
    "x = -5\n",
    "while (x < 2):\n",
    "   x = x + 3\n",
    "   print(\"pcep\")"
   ]
  },
  {
   "cell_type": "code",
   "execution_count": 12,
   "id": "e394d949",
   "metadata": {},
   "outputs": [
    {
     "name": "stdout",
     "output_type": "stream",
     "text": [
      "*\n"
     ]
    }
   ],
   "source": [
    "# it's easier to understand these types of questions when you quickly write the outcome!\n",
    "# i = 0, i + 1 = 1, so an asterix is printed ...\n",
    "# i = 1, i + 1 = 2, so there is a break!\n",
    "# that means there is only one asterix printed in total as the break is initiated!\n",
    "\n",
    "i = 0\n",
    "while i <= 5:\n",
    "    i += 1\n",
    "    if i % 2 == 0:\n",
    "        break\n",
    "    print(\"*\")"
   ]
  },
  {
   "cell_type": "code",
   "execution_count": 72,
   "id": "b3142403",
   "metadata": {},
   "outputs": [
    {
     "name": "stdout",
     "output_type": "stream",
     "text": [
      "2\n"
     ]
    }
   ],
   "source": [
    "# when initial = 1, initial + 1 = 2 ...\n",
    "# 2 is therefore printed!\n",
    "# 2 + 1 is not less that 3 (while condition), so the 'break' is initiated ...\n",
    "\n",
    "initial = 1\n",
    "while initial < 3:\n",
    "   initial += 1\n",
    "   print(initial)\n",
    "   break\n",
    "else:\n",
    "   print(\"Break\")"
   ]
  },
  {
   "cell_type": "code",
   "execution_count": 14,
   "id": "5e878493",
   "metadata": {},
   "outputs": [
    {
     "name": "stdout",
     "output_type": "stream",
     "text": [
      "#\n",
      "#\n",
      "#\n"
     ]
    }
   ],
   "source": [
    "# got this one correct but used the wrong logic!\n",
    "\n",
    "# 0 + 1 => #\n",
    "# 1 + 1 => continue\n",
    "# 2 + 1 => #\n",
    "# 3 + 1 => continue\n",
    "# 4 + 1 => #\n",
    "# 5 + 1 => is not less than 6!\n",
    "\n",
    "var = 0\n",
    "while var < 6:\n",
    "    var += 1\n",
    "    if var % 2 == 0:\n",
    "        continue\n",
    "    print(\"#\")"
   ]
  },
  {
   "cell_type": "code",
   "execution_count": 15,
   "id": "88363eba",
   "metadata": {},
   "outputs": [
    {
     "name": "stdout",
     "output_type": "stream",
     "text": [
      "Data is Empty\n"
     ]
    }
   ],
   "source": [
    "# I got this question wrong - I thought an empty string was still a value! \n",
    "\n",
    "data = \"\"\n",
    "while data:\n",
    "   print(\"Data is not Empty\")\n",
    "else:\n",
    "   print(\"Data is Empty\")"
   ]
  },
  {
   "cell_type": "code",
   "execution_count": 73,
   "id": "4bc3b4ce",
   "metadata": {},
   "outputs": [],
   "source": [
    "# I was unclear as to why this enters into an infinite loop but I was correct nonetheless!\n",
    "# I initially thought it was because there is no condition on the 'else' statement.\n",
    "# But it is because the while statement ensures that i will ALWAYS be less than i < i + 2.\n",
    "\n",
    "#i = 0\n",
    "#while i < i + 2:\n",
    "#    i += 1\n",
    "#    print(\"*\")\n",
    "#else:\n",
    "#    print(\"*\")"
   ]
  },
  {
   "cell_type": "code",
   "execution_count": 17,
   "id": "6525199a",
   "metadata": {},
   "outputs": [
    {
     "name": "stdout",
     "output_type": "stream",
     "text": [
      "Number: 6\n"
     ]
    }
   ],
   "source": [
    "# The pass statement in Python is used when a statement is required syntactically ...\n",
    "# ... but you do not want any command or code to execute.\n",
    "# The pass statement is a null operation; nothing happens when it executes.\n",
    "# The pass is also useful in places where your code will eventually go, but not written yet!\n",
    "\n",
    "term = 'second'\n",
    "num = 0\n",
    "while num < len(term):\n",
    "    num += 1\n",
    "    pass\n",
    "print('Number:', num)"
   ]
  },
  {
   "cell_type": "code",
   "execution_count": 18,
   "id": "df4221a1",
   "metadata": {},
   "outputs": [
    {
     "name": "stdout",
     "output_type": "stream",
     "text": [
      "Hi\n",
      "1\n",
      "2\n"
     ]
    }
   ],
   "source": [
    "# i = 0 --> 0 + 1 = 1 (print 'Hi') (print '1')\n",
    "# i = 1 --> 1 + 1 = 2 (pass) (print '2')\n",
    "# i = 2 --> 2 + 1 = 3 (not < 2)\n",
    "\n",
    "i = 0\n",
    "while i < 2:\n",
    "   i += 1\n",
    "   if i == 1:\n",
    "       print('Hi')\n",
    "       pass\n",
    "   print(i)"
   ]
  },
  {
   "cell_type": "code",
   "execution_count": 19,
   "id": "8e272b9c",
   "metadata": {},
   "outputs": [
    {
     "name": "stdout",
     "output_type": "stream",
     "text": [
      "Sandy\n"
     ]
    }
   ],
   "source": [
    "# initially I didn't think the syntax looked correct, but it is actually perfectly fine!\n",
    "# if there is only one statement in one line - then it is valid!\n",
    "\n",
    "inp = 1\n",
    " \n",
    "if (inp < 3): print(\"Sandy\")\n",
    "else: print(\"Monika\")"
   ]
  },
  {
   "cell_type": "code",
   "execution_count": 20,
   "id": "6992fbc8",
   "metadata": {},
   "outputs": [
    {
     "name": "stdout",
     "output_type": "stream",
     "text": [
      "Year less than 2021\n"
     ]
    }
   ],
   "source": [
    "# this is a valid syntax!\n",
    "# I haven't seen code structured like this, so assumed the syntax was invalid.\n",
    "\n",
    "year = 10\n",
    "print(\"Year less than 2021\") if year < 2021 else print(\"Bye 2020\")"
   ]
  },
  {
   "cell_type": "code",
   "execution_count": 21,
   "id": "6dd6e2d4",
   "metadata": {},
   "outputs": [
    {
     "name": "stdout",
     "output_type": "stream",
     "text": [
      "Same content\n"
     ]
    }
   ],
   "source": [
    "# Although, 'int' is different to the 'float' type, the values are the same ... \n",
    "# ... python is smart enough to tackle this and consider them the same value wise.\n",
    "\n",
    "if 5 == 5.0:\n",
    "   print(\"Same content\")\n",
    "else:\n",
    "   print(\"Different content\")"
   ]
  },
  {
   "cell_type": "code",
   "execution_count": 22,
   "id": "6705eb77",
   "metadata": {},
   "outputs": [
    {
     "name": "stdout",
     "output_type": "stream",
     "text": [
      "#\n",
      "#\n"
     ]
    }
   ],
   "source": [
    "# At the start, i = 2 so i > 0 is satisfied, and '#' is printed due to the very first line after the if statement.\n",
    "# In the nested if-elif-else, the first condition ( if i < 4:) is satisfied, and hence '#' is printed again.\n",
    "# It will not check for other conditions because the first condition itself is satisfied.\n",
    "\n",
    "i = 2\n",
    "if i > 0:\n",
    "   print(\"#\")\n",
    "   if i < 4:\n",
    "        print(\"#\")\t \n",
    "   elif i < 3:\n",
    "        print('#')\n",
    "   elif i ==2:\n",
    "        print(\"#\")\n",
    "   else:\n",
    "        print(\"#\")\n",
    " \n",
    "else:\n",
    "   print(\"#\")"
   ]
  },
  {
   "cell_type": "code",
   "execution_count": 23,
   "id": "ed9a956c",
   "metadata": {},
   "outputs": [
    {
     "name": "stdout",
     "output_type": "stream",
     "text": [
      "9\n"
     ]
    }
   ],
   "source": [
    "# had to use Thonny for debugging!\n",
    "# see below ... \n",
    "\n",
    "var = 0\n",
    "for i in range(3):\n",
    "    # (0, 1, 2)\n",
    "   for j in range(-2, -7, -2):\n",
    "    # (-2, -4, -6)\n",
    "     var += 1\n",
    "        # var adds 1 each time (0 --> -2, -4, -6) (1 + 1 + 1 = 3)\n",
    "        # var adds 1 each time (1 --> -2, -4, -6) (1 + 1 + 1 = 3)\n",
    "        # var adds 1 each time (2 --> -2, -4, -6) (1 + 1 + 1 = 3)\n",
    "print(var)"
   ]
  },
  {
   "cell_type": "code",
   "execution_count": 24,
   "id": "56840aba",
   "metadata": {},
   "outputs": [
    {
     "name": "stdout",
     "output_type": "stream",
     "text": [
      "d\n",
      "o\n",
      "g\n"
     ]
    }
   ],
   "source": [
    "# each print statement will print in the next line!\n",
    "\n",
    "pet=\"dog\"\n",
    "for i in range(0,len(pet)):\n",
    "   print(pet[i])"
   ]
  },
  {
   "cell_type": "markdown",
   "id": "d9808985",
   "metadata": {},
   "source": [
    "3. Lists, Dictionaries and Tuples (plus conditionals)"
   ]
  },
  {
   "cell_type": "code",
   "execution_count": 25,
   "id": "5a295b9a",
   "metadata": {},
   "outputs": [
    {
     "name": "stdout",
     "output_type": "stream",
     "text": [
      "True\n",
      "False\n",
      "True\n",
      "True\n",
      "False\n",
      "True\n"
     ]
    }
   ],
   "source": [
    "# l3 and l2 share the same memory location and refers to the same object ...\n",
    "# ... so l3 = l2 is True ...\n",
    "# ... and l3 == l2 is also True ...\n",
    "# ... and l3 is l2 is also True\n",
    "# l1 is a different object but its content is the same as l2 ...\n",
    "# ... Hence, l1 is l2 is False ...\n",
    "# ... but l1 == l2 is True!\n",
    "\n",
    "l1 = ['pandas','Numpy','Scipy']\n",
    "l2 = ['pandas','Numpy','Scipy']\n",
    "l3 =  l2\n",
    "\n",
    "print(l3 == l1)\n",
    "print(l1 is l3)\n",
    "print(l1 == l2)\n",
    "print(l2 == l1)\n",
    "print(l1 is l2)\n",
    "print(l3 is l2)"
   ]
  },
  {
   "cell_type": "code",
   "execution_count": 26,
   "id": "0ab81d7c",
   "metadata": {},
   "outputs": [
    {
     "name": "stdout",
     "output_type": "stream",
     "text": [
      "[1, 2, 3] [1, 2, 3]\n"
     ]
    }
   ],
   "source": [
    "# this is a type of question that catches me out!\n",
    "\n",
    "x = [1,2,3,4]\n",
    "y = x\n",
    "y.pop()\n",
    "print(x,y)"
   ]
  },
  {
   "cell_type": "code",
   "execution_count": 27,
   "id": "6da7f7c8",
   "metadata": {},
   "outputs": [
    {
     "name": "stdout",
     "output_type": "stream",
     "text": [
      "[1, 0, 1, 2]\n",
      "[1, 1, 2]\n"
     ]
    }
   ],
   "source": [
    "# this is another type of question that catches me out!\n",
    "\n",
    "vals = [0, 1, 2]\n",
    "vals.insert(0, 1)\n",
    "print(vals)\n",
    "\n",
    "del vals[1]\n",
    "print(vals)"
   ]
  },
  {
   "cell_type": "code",
   "execution_count": 28,
   "id": "18bb6578",
   "metadata": {},
   "outputs": [
    {
     "name": "stdout",
     "output_type": "stream",
     "text": [
      "['Hello', (2, 15, 20), 'Coder']\n"
     ]
    }
   ],
   "source": [
    "# the remove() method will remove the first occurrence of the value 2\n",
    "\n",
    "var = [\"Hello\", 2, (2,15,20), \"Coder\"]\n",
    "var.remove(2)\n",
    "print(var)"
   ]
  },
  {
   "cell_type": "code",
   "execution_count": 29,
   "id": "b2358d71",
   "metadata": {},
   "outputs": [
    {
     "name": "stdout",
     "output_type": "stream",
     "text": [
      "['A', 'B', 'a', 'b']\n"
     ]
    }
   ],
   "source": [
    "# sort() will sort the elements of the list in ascending order of their ASCII values!\n",
    "\n",
    "l1 = ['A','a','B','b']\n",
    "l1.sort()\n",
    "print(l1)"
   ]
  },
  {
   "cell_type": "code",
   "execution_count": 30,
   "id": "2524f668",
   "metadata": {},
   "outputs": [],
   "source": [
    "# sort() works only for the list of same data type! \n",
    "# Here, there are 2 data types - str and int so it will be an error.\n",
    "\n",
    "mixed_list = [65,\"A\",66,\"B\",67,\"C\"]\n",
    "#mixed_list.sort()\n",
    "#print(mixed_list)"
   ]
  },
  {
   "cell_type": "code",
   "execution_count": 31,
   "id": "9b56986f",
   "metadata": {},
   "outputs": [],
   "source": [
    "# the number of elements is zero - but I don't understand why!\n",
    "# I can only assume its because there needs to be increasing values in the range.\n",
    "# Or it could be because -2 to -1 only increases by 1 and -1 is not included in the range.\n",
    "\n",
    "lst = [i for i in range(-1, -2)]"
   ]
  },
  {
   "cell_type": "code",
   "execution_count": 32,
   "id": "8e79c6b3",
   "metadata": {},
   "outputs": [
    {
     "name": "stdout",
     "output_type": "stream",
     "text": [
      "True\n"
     ]
    }
   ],
   "source": [
    "# d1 and d2 are dictionaries and both are different dictionaries but the content is the same.\n",
    "# Hence, the == operator will be True irrespective of the order of the elements\n",
    "# ... because the order does not matter in the dictionary.\n",
    "\n",
    "d1 = {'Age': 27, 'Name': 'Holding'}\n",
    "d2 = {'Name': 'Holding', 'Age': 27}\n",
    "print(d1 == d2)"
   ]
  },
  {
   "cell_type": "code",
   "execution_count": 33,
   "id": "5133f403",
   "metadata": {},
   "outputs": [
    {
     "name": "stdout",
     "output_type": "stream",
     "text": [
      "True\n"
     ]
    }
   ],
   "source": [
    "# similar to above\n",
    "\n",
    "d1 = {\"sandy\":35, \"surname\":\"Kate\"}\n",
    "d2 = {\"surname\":\"Kate\", \"sandy\":35}\n",
    "print(d1 == d2)"
   ]
  },
  {
   "cell_type": "code",
   "execution_count": 34,
   "id": "bd9c5d84",
   "metadata": {},
   "outputs": [
    {
     "name": "stdout",
     "output_type": "stream",
     "text": [
      "('H', 'e', 'l', 'l', 'o')\n"
     ]
    }
   ],
   "source": [
    "t = tuple('Hello World')\n",
    "print(t[:-6])"
   ]
  },
  {
   "cell_type": "code",
   "execution_count": 35,
   "id": "e146a6f9",
   "metadata": {},
   "outputs": [
    {
     "name": "stdout",
     "output_type": "stream",
     "text": [
      "<class 'tuple'>\n"
     ]
    }
   ],
   "source": [
    "# For a single element, if there is a comma at the end, it is considered a tuple (not a string).\n",
    "\n",
    "fruit = \"Mango\",\n",
    "print(type(fruit))"
   ]
  },
  {
   "cell_type": "code",
   "execution_count": 36,
   "id": "81a77f7e",
   "metadata": {},
   "outputs": [
    {
     "name": "stdout",
     "output_type": "stream",
     "text": [
      "4\n"
     ]
    }
   ],
   "source": [
    "# really unclear - I thought tuples were immutable!\n",
    "# I can only assume this is possible because tup is being combined with ITSELF.\n",
    "# ... the hash would still be the same.\n",
    "\n",
    "tup = (1, ) + (1, )\n",
    "tup = tup + tup\n",
    "print(len(tup))"
   ]
  },
  {
   "cell_type": "code",
   "execution_count": 37,
   "id": "6a6810fb",
   "metadata": {},
   "outputs": [
    {
     "name": "stdout",
     "output_type": "stream",
     "text": [
      "(1, 2, 3, 'Apples', 'Bananas')\n",
      "(1, 2, 3, 'Apples', 'Bananas')\n"
     ]
    }
   ],
   "source": [
    "# note that with or without the brackets the end result is the same!\n",
    "\n",
    "tupl1 = (1, 2, 3)\n",
    "tupl2 = (\"Apples\", \"Bananas\")\n",
    "tupl3 = (tupl1 + tupl2)\n",
    "print(tupl3)\n",
    "tupl4 = tupl1 + tupl2\n",
    "print(tupl4)"
   ]
  },
  {
   "cell_type": "code",
   "execution_count": 38,
   "id": "028329b9",
   "metadata": {},
   "outputs": [
    {
     "name": "stdout",
     "output_type": "stream",
     "text": [
      "[1, 1, 1, 2]\n"
     ]
    }
   ],
   "source": [
    "# Through using Thonny, I discovered where I was going wrong.\n",
    "# I assumed that the range was 0, 1 and 2. The range is just 0 and 1.\n",
    "\n",
    "my_list = [1, 2]\n",
    "\n",
    "for v in range(2):\n",
    "# (0, 1)\n",
    "    my_list.insert(-1, my_list[v])\n",
    "# so for 0 --> [1,1,2]\n",
    "# and for 1 --> [1,1,1,2]\n",
    "    \n",
    "print(my_list)"
   ]
  },
  {
   "cell_type": "code",
   "execution_count": 39,
   "id": "5d6cce69",
   "metadata": {},
   "outputs": [
    {
     "name": "stdout",
     "output_type": "stream",
     "text": [
      "*\n",
      "*\n",
      "*\n"
     ]
    }
   ],
   "source": [
    "# this was a really difficult question (for me)!\n",
    "# I used Thonny to better understand it but was still a little unclear.\n",
    "\n",
    "lst = [[x for x in range(3)] for y in range(3)]\n",
    "# [[0,1,2][0,1,2][0,1,2]]\n",
    "for r in range(3):\n",
    "# range(0,3)\n",
    "# 0, 1, 2\n",
    "    for c in range(3):\n",
    "    # range(0,3)\n",
    "    # 0, 1, 2\n",
    "        if lst[r][c] % 2 != 0:\n",
    "            # 0 --> 0 [0,1,2] --> *\n",
    "            # 1 --> 1 [0,1,2] --> *\n",
    "            # 2 --> 2 [0,1,2] --> *\n",
    "            print(\"*\")"
   ]
  },
  {
   "cell_type": "code",
   "execution_count": 40,
   "id": "c2263581",
   "metadata": {},
   "outputs": [
    {
     "name": "stdout",
     "output_type": "stream",
     "text": [
      "6\n"
     ]
    }
   ],
   "source": [
    "# this is similar to the one above - I struggled with this too!\n",
    "\n",
    "t = [[3-i for i in range(3)] for j in range(3)]\n",
    "# [[3,2,1][3,2,1][3,2,1]]\n",
    "\n",
    "s = 0\n",
    "for i in range(3):\n",
    "# range(0,3)\n",
    "# 0, 1, 2 --> [3,2,1] --> 3+2+1 = 6\n",
    "    s += t[i][i]\n",
    "print(s)"
   ]
  },
  {
   "cell_type": "code",
   "execution_count": 41,
   "id": "80c25ad8",
   "metadata": {},
   "outputs": [
    {
     "name": "stdout",
     "output_type": "stream",
     "text": [
      "[[10, 2, 3]]\n"
     ]
    }
   ],
   "source": [
    "# For the outer loop, the range is 1 so it is executed only once. \n",
    "# For the inner loop, the range is also 1\n",
    "\n",
    "list = [[1, 2, 3]]\n",
    "result = 1\n",
    " \n",
    "for i in range(1):\n",
    "   result *= 10\n",
    "    # just one execution --> 1 * 10 = 10\n",
    "   for j in range(1):\n",
    "       list[i][j] *= result\n",
    "        # 0 position of the list we have 1 [1,2,3] \n",
    "        # 1 * 10 (result) --> answer is 10\n",
    " \n",
    "print(list)"
   ]
  },
  {
   "cell_type": "code",
   "execution_count": 42,
   "id": "e345bd40",
   "metadata": {},
   "outputs": [
    {
     "name": "stdout",
     "output_type": "stream",
     "text": [
      "21"
     ]
    }
   ],
   "source": [
    "# I'm unclear about the output. Why is it not the \"key\" as opposed to the \"value\"?\n",
    "# Thonny helped to some extent here.\n",
    "# I think 'dict.keys' is used to set the correct range and ... \n",
    "# through indexing [1], the output will therefore be the value(s).\n",
    "\n",
    "dct = {}\n",
    "dct['1'] = (1, 2)\n",
    "dct['2'] = (2, 1)\n",
    "\n",
    "for x in dct.keys():\n",
    "    print(dct[x][1], end=\"\")"
   ]
  },
  {
   "cell_type": "code",
   "execution_count": 43,
   "id": "beff221c",
   "metadata": {},
   "outputs": [
    {
     "name": "stdout",
     "output_type": "stream",
     "text": [
      "one\n"
     ]
    }
   ],
   "source": [
    "# this is a question that has come up twice!\n",
    "# I've got it right on both occasions, but do not necessarily understand it fully.\n",
    "\n",
    "dct = {'one': 'two', 'three': 'one', 'two': 'three'}\n",
    "v = dct['three']\n",
    "\n",
    "for k in range(len(dct)):\n",
    "    v = dct[v]\n",
    "    \n",
    "print(v)"
   ]
  },
  {
   "cell_type": "code",
   "execution_count": 44,
   "id": "781743c9",
   "metadata": {},
   "outputs": [
    {
     "name": "stdout",
     "output_type": "stream",
     "text": [
      "1 python 2 java 3 C 4 C# 5 Perl "
     ]
    }
   ],
   "source": [
    "# If you want to loop through a dictionary's keys and values, you can use the items() method.\n",
    "# The items() method returns tuples where each tuple is a key-value pair ...\n",
    "# ... I didn't realise that p and q represented key and value respectively!\n",
    "\n",
    "a = {1:\"python\", 2:\"java\", 3:\"C\", 4:\"C#\", 5:\"Perl\"}\n",
    "for p,q in a.items():\n",
    "    print(p,q,end=\" \")"
   ]
  },
  {
   "cell_type": "markdown",
   "id": "ae42385d",
   "metadata": {},
   "source": [
    "4. Functions"
   ]
  },
  {
   "cell_type": "code",
   "execution_count": 45,
   "id": "53504833",
   "metadata": {},
   "outputs": [
    {
     "name": "stdout",
     "output_type": "stream",
     "text": [
      "3\n"
     ]
    }
   ],
   "source": [
    "# this was a silly one to get wrong - I convinced myself that it was a trick question!\n",
    "\n",
    "def func(var):\n",
    "    var = 5\n",
    "\n",
    "var = 3\n",
    "func(var)\n",
    "print(var)"
   ]
  },
  {
   "cell_type": "code",
   "execution_count": 46,
   "id": "dfbe59f1",
   "metadata": {},
   "outputs": [
    {
     "name": "stdout",
     "output_type": "stream",
     "text": [
      "2 5\n"
     ]
    }
   ],
   "source": [
    "# The swap functions swaps the values of num1 and num2 ...\n",
    "\n",
    "def swap(num1, num2):\n",
    "    # (5, 2)\n",
    "   temp = num1;\n",
    "    # 'temp' acts as a placeholder\n",
    "    # temp = num1 (this means that temp is equal to 5)\n",
    "   num1 = num2;\n",
    "    # num1 = num2 (this means num1 is equal to 2) \n",
    "   num2 = temp;\n",
    "    # num2 = temp (this means that num2 is equal to 5)\n",
    "num1 = (2)\n",
    "num2 = (5)\n",
    "swap(num1, num2)\n",
    "print(num1 , num2)\n",
    "# output should be 25"
   ]
  },
  {
   "cell_type": "code",
   "execution_count": 47,
   "id": "b6b59c74",
   "metadata": {},
   "outputs": [
    {
     "name": "stdout",
     "output_type": "stream",
     "text": [
      "Python3 Python2\n"
     ]
    }
   ],
   "source": [
    "# similar to above!\n",
    "\n",
    "def swap(a, b):\n",
    "   a, b = b, a\n",
    "   return (a, b)\n",
    " \n",
    "a = \"Python2\"\n",
    "b = \"Python3\"\n",
    "a, b = swap(a, b)\n",
    "print(a, b)"
   ]
  },
  {
   "cell_type": "code",
   "execution_count": 48,
   "id": "cc96ac3f",
   "metadata": {},
   "outputs": [
    {
     "name": "stdout",
     "output_type": "stream",
     "text": [
      "0\n"
     ]
    }
   ],
   "source": [
    "# I got this correct, but it's a tricky question and it took some thought ...\n",
    "# this appears to be in a loop UNTIL y = 0 ...\n",
    "\n",
    "def fun(x, y):\n",
    "    # (0, 3)\n",
    "    # 0 does not equal 3\n",
    "    # (0, 2)\n",
    "    # 0 does not equal 2\n",
    "    # (0, 1)\n",
    "    # 0 does not equal 1\n",
    "    # (0, 0)\n",
    "    # 0 DOES equal 0\n",
    "    if x == y:\n",
    "        return x\n",
    "    else:\n",
    "        return fun(x, y-1)\n",
    "    \n",
    "print(fun(0, 3))"
   ]
  },
  {
   "cell_type": "code",
   "execution_count": 49,
   "id": "b931ad87",
   "metadata": {},
   "outputs": [
    {
     "name": "stdout",
     "output_type": "stream",
     "text": [
      "6\n"
     ]
    }
   ],
   "source": [
    "# This is another one similar to the question above.\n",
    "\n",
    "def f(x):\n",
    "    # x = 3\n",
    "    # return 3 + f(2)\n",
    "    # x = 2\n",
    "    # return 2 + f(1)\n",
    "    # x = 1\n",
    "    # return 1 + f(0)\n",
    "    # x = 0 (0 is returned)\n",
    "    # therefore 3 + 2 + 1 = 6\n",
    "    if x == 0:\n",
    "        return 0\n",
    "    return x + f(x-1)\n",
    "\n",
    "print(f(3))"
   ]
  },
  {
   "cell_type": "code",
   "execution_count": 50,
   "id": "d3c2d698",
   "metadata": {},
   "outputs": [
    {
     "name": "stdout",
     "output_type": "stream",
     "text": [
      "24\n"
     ]
    }
   ],
   "source": [
    "# This is called factorial function which calls itself in a recursion like -\n",
    "# ... 4 * fact(3)\n",
    "# ... = 4 * 3 * fact(2)\n",
    "# ... = 4 * 3 * 2 * fact(1)\n",
    "# ... = 4 * 3 * 2 * 1 = 24\n",
    "\n",
    "def fact(n):\n",
    "   if n == 1:\n",
    "       return 1\n",
    "   return fact(n-1)*n\n",
    " \n",
    "print(fact(4))"
   ]
  },
  {
   "cell_type": "code",
   "execution_count": 51,
   "id": "465b5093",
   "metadata": {},
   "outputs": [],
   "source": [
    "# very tricky question that caught me out!\n",
    "# Initially i = 2 so control will go to else part.\n",
    "# return f(0) * f(3) ... f(0) will again go to else part ...\n",
    "# ... this will keep on going to else part because i < 2 is fulfilled.\n",
    "\n",
    "def f(i):\n",
    "   if i > 2:\n",
    "       return i\n",
    "   else:\n",
    "       return f(0) * f(3)\n",
    " \n",
    "# print(f(2))\n",
    "# RecursionError: maximum recursion depth exceeded in comparison"
   ]
  },
  {
   "cell_type": "code",
   "execution_count": 52,
   "id": "036fdbcf",
   "metadata": {},
   "outputs": [
    {
     "name": "stdout",
     "output_type": "stream",
     "text": [
      "3\n"
     ]
    }
   ],
   "source": [
    "# min() function returns the minimum value.\n",
    "\n",
    "hits= [8,5,9,6,3, 3, 10,10]\n",
    " \n",
    "def minhits(hits):\n",
    "   return min(hits)\n",
    "   \n",
    "print(minhits(hits))"
   ]
  },
  {
   "cell_type": "code",
   "execution_count": 53,
   "id": "6cc7201e",
   "metadata": {},
   "outputs": [
    {
     "name": "stdout",
     "output_type": "stream",
     "text": [
      "16\n"
     ]
    }
   ],
   "source": [
    "# exp() has 2 default arguments ...\n",
    "# ... exp(4) calls exp() function as pow is overriden with 4 and num is already 2 ...\n",
    "# ... pow**num = 4**2 = 16.\n",
    "\n",
    "def exp(pow = 3, num = 2):\n",
    "   return pow ** num\n",
    " \n",
    "print(exp(4))"
   ]
  },
  {
   "cell_type": "code",
   "execution_count": 54,
   "id": "bc85a34e",
   "metadata": {},
   "outputs": [
    {
     "name": "stdout",
     "output_type": "stream",
     "text": [
      "['Python', 'Java']\n"
     ]
    }
   ],
   "source": [
    "# func(py) returns ['Python','Java'] which is stored in ret!\n",
    "\n",
    "def func(py):\n",
    "   return ['Python','Java']\n",
    " \n",
    "lst = [2, 3, 4]\n",
    "ret = func(lst);\n",
    "print(ret)"
   ]
  },
  {
   "cell_type": "code",
   "execution_count": 55,
   "id": "9f1cc581",
   "metadata": {},
   "outputs": [
    {
     "name": "stdout",
     "output_type": "stream",
     "text": [
      "[0, 1, 4, 9]\n"
     ]
    }
   ],
   "source": [
    "# I got this one correct, but it's a tricky question and it took some thought ...\n",
    "\n",
    "my_list = [x * x for x in range(5)]\n",
    "# [0,1,2,3,4]\n",
    "# becomes [0,1,4,9,16]\n",
    "\n",
    "def fun(lst):\n",
    "    del lst[lst[2]]\n",
    "    # index 2 of my_list is 4\n",
    "    # delete value in index 4 in my_list --> [0,1,4,9]\n",
    "    return lst\n",
    "\n",
    "print(fun(my_list))"
   ]
  },
  {
   "cell_type": "code",
   "execution_count": 56,
   "id": "6f949ff6",
   "metadata": {},
   "outputs": [
    {
     "name": "stdout",
     "output_type": "stream",
     "text": [
      "['Ferrari', 'Aston', 'Lamborghini', 'Pagani', 'McLaren']\n"
     ]
    }
   ],
   "source": [
    "# very tricky question - caught me out!\n",
    "# First, cars_disp() is called and \"Pagani\" is added after the last element of [\"Ferrari\",\"Aston\", \"Lamborghini\"] so it is [\"Ferrari\",\"Aston\", \"Lamborghini\", \"Pagani\"]\n",
    "# Again, cars_disp() is called and \"McLaren\" is added after the last element of [\"Ferrari\",\"Aston\", \"Lamborghini\", \"Pagani\"] so it is [\"Ferrari\",\"Aston\", \"Lamborghini\", \"Pagani\", \"McLaren\"]\n",
    "\n",
    "def cars_disp(new, clist=[]):\n",
    "   clist.append(new)\n",
    "   return clist\n",
    " \n",
    "top_cars = cars_disp(\"Pagani\",[\"Ferrari\",\"Aston\", \"Lamborghini\"])\n",
    "print(cars_disp(\"McLaren\", top_cars))"
   ]
  },
  {
   "cell_type": "markdown",
   "id": "ce439833",
   "metadata": {},
   "source": [
    "5. Error Handling"
   ]
  },
  {
   "cell_type": "code",
   "execution_count": 57,
   "id": "8b7afe6a",
   "metadata": {},
   "outputs": [
    {
     "name": "stdout",
     "output_type": "stream",
     "text": [
      "Enter a value: 7\n",
      "7.0\n"
     ]
    }
   ],
   "source": [
    "# this is very useful for testing a range of inputs!\n",
    "\n",
    "try:\n",
    "    value = input(\"Enter a value: \")\n",
    "    print(int(value)/len(value))\n",
    "except ValueError:\n",
    "    print(\"Bad input ...\")\n",
    "except ZeroDivisionError:\n",
    "    print(\"Very bad input ...\")\n",
    "except TypeError:\n",
    "    print(\"Very very bad input ...\")\n",
    "except:\n",
    "    print(\"Booo!\")"
   ]
  },
  {
   "cell_type": "code",
   "execution_count": 58,
   "id": "6f5c428d",
   "metadata": {},
   "outputs": [],
   "source": [
    "# didn't understand the error message at first!\n",
    "# There isn't a 0 'value' in the tupple itelf, so it cannot be indexed.\n",
    "# I made this very easy question way more challenging than it actually was.\n",
    "\n",
    "foo = (1, 2, 3)\n",
    "#foo.index(0)"
   ]
  },
  {
   "cell_type": "code",
   "execution_count": 59,
   "id": "6c144092",
   "metadata": {},
   "outputs": [
    {
     "name": "stdout",
     "output_type": "stream",
     "text": [
      "2\n"
     ]
    }
   ],
   "source": [
    "# I made the same mistake with this one too!\n",
    "\n",
    "a= [1,2,3,4,5]\n",
    "print(a.index(3))"
   ]
  },
  {
   "cell_type": "code",
   "execution_count": 60,
   "id": "4c0622c0",
   "metadata": {},
   "outputs": [
    {
     "ename": "SyntaxError",
     "evalue": "'break' outside loop (846674126.py, line 6)",
     "output_type": "error",
     "traceback": [
      "\u001b[0;36m  Cell \u001b[0;32mIn[60], line 6\u001b[0;36m\u001b[0m\n\u001b[0;31m    break\u001b[0m\n\u001b[0m    ^\u001b[0m\n\u001b[0;31mSyntaxError\u001b[0m\u001b[0;31m:\u001b[0m 'break' outside loop\n"
     ]
    }
   ],
   "source": [
    "# I understand why there is an error - you cannot use 'break' outside a loop!\n",
    "# I'm assuming it can only be a syntax error beccause it is not in relation to an entered value.\n",
    "\n",
    "try:\n",
    "    print(5/0)\n",
    "    break\n",
    "except:\n",
    "    print(\"Sorry, something went wrong ...\")\n",
    "except (ValueError, ZeroDivisionError):\n",
    "    print(\"Too bad ...\")\n"
   ]
  },
  {
   "cell_type": "markdown",
   "id": "82f30b35",
   "metadata": {},
   "source": [
    "x. Other"
   ]
  },
  {
   "cell_type": "code",
   "execution_count": 61,
   "id": "ac42e808",
   "metadata": {},
   "outputs": [
    {
     "name": "stdout",
     "output_type": "stream",
     "text": [
      "18\n"
     ]
    }
   ],
   "source": [
    "print(1*2*3*1**6*3)"
   ]
  },
  {
   "cell_type": "code",
   "execution_count": 62,
   "id": "b42b80b1",
   "metadata": {},
   "outputs": [
    {
     "name": "stdout",
     "output_type": "stream",
     "text": [
      "1.2e+16\n"
     ]
    }
   ],
   "source": [
    "print(12. * 1000000000000000)"
   ]
  },
  {
   "cell_type": "code",
   "execution_count": 63,
   "id": "0fe49c20",
   "metadata": {},
   "outputs": [
    {
     "name": "stdout",
     "output_type": "stream",
     "text": [
      "0\n"
     ]
    }
   ],
   "source": [
    "# The exponentiation (**) operator has higher priority than the floor division(//) operator.\n",
    "# ... Hence, 1//3 is 0.\n",
    "\n",
    "print(1 ** 6 // 3)"
   ]
  },
  {
   "cell_type": "code",
   "execution_count": 64,
   "id": "f142644e",
   "metadata": {},
   "outputs": [
    {
     "name": "stdout",
     "output_type": "stream",
     "text": [
      "0 1\n"
     ]
    }
   ],
   "source": [
    "# this has to do with 'Bitwise' and updating variables - XOR!\n",
    "\n",
    "a = 1\n",
    "b = 0\n",
    "a = a ^ b # a = 1 ^ 0 = 1\n",
    "b = a ^ b # b = 1 ^ 0 = 1\n",
    "a = a ^ b # a = 1 ^ 1 = 0\n",
    "\n",
    "print(a, b)"
   ]
  }
 ],
 "metadata": {
  "kernelspec": {
   "display_name": "Python 3 (ipykernel)",
   "language": "python",
   "name": "python3"
  },
  "language_info": {
   "codemirror_mode": {
    "name": "ipython",
    "version": 3
   },
   "file_extension": ".py",
   "mimetype": "text/x-python",
   "name": "python",
   "nbconvert_exporter": "python",
   "pygments_lexer": "ipython3",
   "version": "3.10.9"
  }
 },
 "nbformat": 4,
 "nbformat_minor": 5
}
